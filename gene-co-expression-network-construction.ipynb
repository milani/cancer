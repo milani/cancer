{
 "cells": [
  {
   "cell_type": "markdown",
   "metadata": {},
   "source": [
    "Cancer - Gene Co-Expression Network Construction\n",
    "===="
   ]
  },
  {
   "cell_type": "markdown",
   "metadata": {},
   "source": [
    "We have a theory to explain why cancer happens. The theory is that cancer happens when the cell system's entroy increases due to external forces and the cell moves uphill from the minimum free energy. As the cell system is robust, it tries to maintain itself and control the energy. But it is not always successful, the cell may enter a local minimum of free energy where it is now stabilized. These local minimums may be the points that cell becomes cancerous. We want to see if our hypothesis is correct."
   ]
  },
  {
   "cell_type": "markdown",
   "metadata": {},
   "source": [
    "To this end, we use Prostate cancer data derived from NCBI Gene Omnibus GDS2545 dataset. In this iPython notebook, we generate gene co-expression networks for the 4 cell phenotypes: Normal, Adjacent, Tumor, Metastasis. We then use the constructed networks in another notebook to explore the hypothesis."
   ]
  },
  {
   "cell_type": "markdown",
   "metadata": {},
   "source": [
    "---"
   ]
  },
  {
   "cell_type": "markdown",
   "metadata": {},
   "source": [
    "For each phenotype, we want to use Spearman correlation coefficient to construct a gene co-expression network (See: http://journals.plos.org/plosone/article?id=10.1371/journal.pone.0087075).\n",
    "\n",
    "Below, pre-computed spearman matrices are loaded if available. Otherwise,raw expression data is loaded and the spearman matrix is computed for each phenotype."
   ]
  },
  {
   "cell_type": "code",
   "execution_count": 1,
   "metadata": {
    "collapsed": false
   },
   "outputs": [
    {
     "name": "stderr",
     "output_type": "stream",
     "text": [
      "/usr/local/lib/python2.7/site-packages/ipykernel/__main__.py:60: DeprecationWarning: using a non-integer number instead of an integer will result in an error in the future\n",
      "/usr/local/lib/python2.7/site-packages/ipykernel/__main__.py:61: DeprecationWarning: using a non-integer number instead of an integer will result in an error in the future\n"
     ]
    }
   ],
   "source": [
    "import numpy as np\n",
    "from scipy.stats import spearmanr\n",
    "\n",
    "def read_raw_data(csv,metacols=None):\n",
    "    \"\"\"\n",
    "    Reads expression data into a ndarray of expression data and tuple of gene identifiers.\n",
    "    \n",
    "    Parameters\n",
    "    ----------\n",
    "    csv : str\n",
    "        Comma-separated csv file to read from. The first two columns are gene identifiers\n",
    "        and prob_ids respectively. Next columns are expression data of each gene (rows)\n",
    "        from different samples.\n",
    "    metacols : int or None\n",
    "        If csv contains meta data columns as defined in csv parameter, use this integer to\n",
    "        separate them from expression data.\n",
    "    \n",
    "    Returns\n",
    "    -------\n",
    "    expression_data : ndarray or False\n",
    "        The expression data. False when IO error happens.\n",
    "    meta_data : ndarray\n",
    "        The meta data matrix according to metacols provided.\n",
    "    \"\"\"\n",
    "    try:\n",
    "        raw_exp = np.genfromtxt(csv,delimiter=',',names=True,dtype=None)\n",
    "        data_cols = list(raw_exp.dtype.names[metacols:])\n",
    "        meta_cols = list(raw_exp.dtype.names[0:metacols])\n",
    "        return raw_exp[data_cols].view(np.float64).reshape(raw_exp.shape[0],len(data_cols)),raw_exp[meta_cols]\n",
    "    except IOError:\n",
    "        return False,None\n",
    "\n",
    "def read_or_calc_corr_data(dataset):\n",
    "    \"\"\"\n",
    "    Reads correlation data from files or calculate them by first loading raw expression data. In\n",
    "    this case, it also saves files to disk for later use.\n",
    "    \n",
    "    Parameters\n",
    "    ----------\n",
    "    dataset : str\n",
    "        The string that is used to produce filenames. \"%s-rs\" is spearman correlation file,\n",
    "        \"%s-rs-p\" is the pvalue of the correlation matrix and \"%s.csv\" is the raw expression\n",
    "        data file.\n",
    "        \n",
    "    Returns\n",
    "    -------\n",
    "    rs : ndarray\n",
    "        Correlation matrix\n",
    "    pvalue : ndarray\n",
    "        Correlation p-value matrix.\n",
    "    \"\"\"\n",
    "    rs_filename = \"%s-rs\" % dataset\n",
    "    pvalue_filename = \"%s-rs-p\" % dataset\n",
    "    dataset_filename = \"%s.csv\" % dataset\n",
    "\n",
    "    try:\n",
    "        rs = np.fromfile(rs_filename)\n",
    "        pvalue = np.fromfile(pvalue_filename)\n",
    "        size = np.sqrt(rs.shape[0])\n",
    "        rs = rs.reshape((size,size))\n",
    "        pvalue = pvalue.reshape((size,size))\n",
    "    except IOError:\n",
    "        print \"Need to calculate spearman correlation matrix. This takes a few minutes...\"\n",
    "        exp,meta = read_raw_data(dataset_filename)\n",
    "        rs,pvalue = spearmanr(exp,axis=1)\n",
    "        rs.tofile(rs_filename)\n",
    "        pvalue.tofile(pvalue_filename)\n",
    "    \n",
    "    return rs,pvalue\n",
    "\n",
    "normal_rs,normal_pvalue = read_or_calc_corr_data(\"normal\")\n",
    "tumor_rs,tumor_pvalue = read_or_calc_corr_data(\"tumor\")"
   ]
  },
  {
   "cell_type": "markdown",
   "metadata": {},
   "source": [
    "We need to set a cutoff to choose approperiate correlations and discard all others. We monitor the size of largest component of the graph and play with the cutoffs to reach a stable point."
   ]
  },
  {
   "cell_type": "code",
   "execution_count": 2,
   "metadata": {
    "collapsed": true
   },
   "outputs": [],
   "source": [
    "import networkx as nx\n",
    "\n",
    "def network(rs,pvalue,p=0.2,corr=0.7):\n",
    "    \"\"\"\n",
    "    Builds a network from Spearman correlation coefficient matrix.\n",
    "    \n",
    "    Parameters\n",
    "    ----------\n",
    "    rs : ndarray\n",
    "        Spearman correlation coefficient matrix\n",
    "    pvalue : ndarray\n",
    "        Spearman correlation coefficient respective p-values\n",
    "    p : float\n",
    "        Threshold for maximum possible p-value to choose from\n",
    "    corr : float\n",
    "        Threshold for minimum possible correlation to form a network\n",
    "    \n",
    "    Returns\n",
    "    -------\n",
    "    G : Graph\n",
    "        A simple undirected graph.\n",
    "    Adj: ndarray\n",
    "        Adjacancy matrix of the graph G. Adj[i][j] shows correlation between nodes i and j.\n",
    "    \"\"\"\n",
    "    zeros = np.zeros(rs.shape)\n",
    "    rs_sig = np.where(pvalue < p,rs,zeros)\n",
    "    rs_adj = np.where(np.absolute(rs_sig) > corr,rs_sig,zeros)\n",
    "    np.fill_diagonal(rs_adj,0)\n",
    "    G = nx.from_numpy_matrix(rs_adj)\n",
    "    return G,rs_adj"
   ]
  },
  {
   "cell_type": "code",
   "execution_count": 19,
   "metadata": {
    "collapsed": false
   },
   "outputs": [
    {
     "name": "stdout",
     "output_type": "stream",
     "text": [
      "(0.05, 0.6)\n",
      "35848\n",
      "(0.05, 0.7)\n",
      "7434\n",
      "(0.05, 0.8)\n",
      "1425\n",
      "(0.05, 0.9)\n",
      "147\n",
      "(0.1, 0.6)\n",
      "35848\n",
      "(0.1, 0.7)\n",
      "7434\n",
      "(0.1, 0.8)\n",
      "1425\n",
      "(0.1, 0.9)\n",
      "147\n",
      "(0.15, 0.6)\n",
      "35848\n",
      "(0.15, 0.7)\n",
      "7434\n",
      "(0.15, 0.8)\n",
      "1425\n",
      "(0.15, 0.9)\n",
      "147\n",
      "(0.2, 0.6)\n",
      "35848\n",
      "(0.2, 0.7)\n",
      "7434\n",
      "(0.2, 0.8)\n",
      "1425\n",
      "(0.2, 0.9)\n",
      "147\n"
     ]
    }
   ],
   "source": [
    "import itertools\n",
    "\n",
    "pvalue_cuts = [0.05,0.1,0.15,0.2]\n",
    "corr_cuts = [0.6,0.7,0.8,0.9]\n",
    "for (p,c) in itertools.product(pvalue_cuts,corr_cuts):\n",
    "    tumor_graph,tumor_adj = network(tumor_rs,tumor_pvalue,p=p,corr=c)\n",
    "    tumor_gc = max(nx.connected_component_subgraphs(tumor_graph), key=len)\n",
    "    print (p,c)\n",
    "    print(tumor_gc.size())"
   ]
  },
  {
   "cell_type": "code",
   "execution_count": 20,
   "metadata": {
    "collapsed": true
   },
   "outputs": [],
   "source": [
    "normal_graph,normal_adj = network(normal_rs,normal_pvalue,p=0.2,corr=0.85)\n",
    "normal_gc = max(nx.connected_component_subgraphs(normal_graph), key=len)\n",
    "\n",
    "tumor_graph,tumor_adj = network(tumor_rs,tumor_pvalue,p=0.2,corr=0.6)\n",
    "tumor_gc = max(nx.connected_component_subgraphs(tumor_graph), key=len)"
   ]
  },
  {
   "cell_type": "code",
   "execution_count": 22,
   "metadata": {
    "collapsed": false
   },
   "outputs": [],
   "source": [
    "nx.write_weighted_edgelist(normal_graph,\"normal-graph.edges\")\n",
    "nx.write_weighted_edgelist(tumor_graph,\"tumor-graph.edges\")"
   ]
  },
  {
   "cell_type": "code",
   "execution_count": 21,
   "metadata": {
    "collapsed": false
   },
   "outputs": [
    {
     "name": "stdout",
     "output_type": "stream",
     "text": [
      "Name: \n",
      "Type: Graph\n",
      "Number of nodes: 4936\n",
      "Number of edges: 38143\n",
      "Average degree:  15.4550\n",
      "Name: \n",
      "Type: Graph\n",
      "Number of nodes: 3340\n",
      "Number of edges: 35848\n",
      "Average degree:  21.4659\n"
     ]
    },
    {
     "data": {
      "image/png": "[encoded data removed]",
      "text/plain": [
       "<matplotlib.figure.Figure at 0x1076fc050>"
      ]
     },
     "metadata": {},
     "output_type": "display_data"
    }
   ],
   "source": [
    "%matplotlib inline\n",
    "import matplotlib.pyplot as plt\n",
    "fig = plt.figure()\n",
    "fig.set_size_inches(14, 9)\n",
    "\n",
    "normal_degree_seq=sorted(nx.degree(normal_gc).values(),reverse=True) \n",
    "tumor_degree_seq=sorted(nx.degree(tumor_gc).values(),reverse=True)\n",
    "plt.loglog(normal_degree_seq,color='blue')\n",
    "plt.title(\"Degree distribution\")\n",
    "plt.ylabel(\"degree\")\n",
    "plt.xlabel(\"rank\")\n",
    "plt.loglog(tumor_degree_seq,color='red')\n",
    "\n",
    "print nx.info(normal_gc)\n",
    "print nx.info(tumor_gc)"
   ]
  },
  {
   "cell_type": "code",
   "execution_count": null,
   "metadata": {
    "collapsed": true
   },
   "outputs": [],
   "source": []
  }
 ],
 "metadata": {
  "kernelspec": {
   "display_name": "Python 2",
   "language": "python",
   "name": "python2"
  },
  "language_info": {
   "codemirror_mode": {
    "name": "ipython",
    "version": 2
   },
   "file_extension": ".py",
   "mimetype": "text/x-python",
   "name": "python",
   "nbconvert_exporter": "python",
   "pygments_lexer": "ipython2",
   "version": "2.7.8"
  }
 },
 "nbformat": 4,
 "nbformat_minor": 0
}
