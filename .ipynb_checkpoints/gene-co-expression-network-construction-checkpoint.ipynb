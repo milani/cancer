{
 "cells": [
  {
   "cell_type": "markdown",
   "metadata": {},
   "source": [
    "Cancer - Gene Co-Expression Network Construction\n",
    "===="
   ]
  },
  {
   "cell_type": "markdown",
   "metadata": {},
   "source": [
    "We have a theory to explain why cancer happens. The theory is that cancer happens when the cell system's entroy increases due to external forces and the cell moves uphill from the minimum free energy. As the cell system is robust, it tries to maintain itself and control the energy. But it is not always successful, the cell may enter a local minimum of free energy where it is now stabilized. These local minimums may be the points that cell becomes cancerous. We want to see if our hypothesis is correct."
   ]
  },
  {
   "cell_type": "markdown",
   "metadata": {},
   "source": [
    "To this end, we use Prostate cancer data derived from NCBI Gene Omnibus GDS2545 dataset. In this iPython notebook, we generate gene co-expression networks for the 4 cell phenotypes: Normal, Adjacent, Tumor, Metastasis. We then use the constructed networks in another notebook to explore the hypothesis."
   ]
  },
  {
   "cell_type": "markdown",
   "metadata": {},
   "source": [
    "---"
   ]
  },
  {
   "cell_type": "markdown",
   "metadata": {},
   "source": [
    "First, load data into notebook in a desirable format."
   ]
  },
  {
   "cell_type": "code",
   "execution_count": 68,
   "metadata": {
    "collapsed": false
   },
   "outputs": [],
   "source": [
    "import numpy as np\n",
    "\n",
    "def read_raw_data(csv,metacols=None):\n",
    "    \"\"\"\n",
    "    Reads expression data into a ndarray of expression data and tuple of gene identifiers.\n",
    "    \n",
    "    Parameters\n",
    "    ----------\n",
    "    csv : str\n",
    "        Comma-separated csv file to read from. The first two columns are gene identifiers\n",
    "        and prob_ids respectively. Next columns are expression data of each gene (rows)\n",
    "        from different samples.\n",
    "    metacols : int or None\n",
    "        If csv contains meta data columns as defined in csv parameter, use this integer to\n",
    "        separate them from expression data.\n",
    "    \n",
    "    Returns\n",
    "    -------\n",
    "    expression_data : ndarray or False\n",
    "        The expression data. False when IO error happens.\n",
    "    meta_data : ndarray\n",
    "        The meta data matrix according to metacols provided.\n",
    "    \"\"\"\n",
    "    try:\n",
    "        raw_exp = np.genfromtxt(csv,delimiter=',',names=True,dtype=None)\n",
    "        data_cols = list(raw_exp.dtype.names[metacols:])\n",
    "        meta_cols = list(raw_exp.dtype.names[0:metacols])\n",
    "        return raw_exp[data_cols].view(np.float64).reshape(raw_exp.shape[0],len(data_cols)),raw_exp[meta_cols]\n",
    "    except IOError:\n",
    "        return False,None\n",
    "\n",
    "def read_or_calc_corr_data(dataset):\n",
    "    \"\"\"\n",
    "    Reads correlation data from files or calculate them by first loading raw expression data. In\n",
    "    this case, it also saves files to disk for later use.\n",
    "    \n",
    "    Parameters\n",
    "    ----------\n",
    "    dataset : str\n",
    "        The string that is used to produce filenames. \"%s-rs\" is spearman correlation file,\n",
    "        \"%s-rs-p\" is the pvalue of the correlation matrix and \"%s.csv\" is the raw expression\n",
    "        data file.\n",
    "        \n",
    "    Returns\n",
    "    -------\n",
    "    rs : ndarray\n",
    "        Correlation matrix\n",
    "    pvalue : ndarray\n",
    "        Correlation p-value matrix.\n",
    "    \"\"\"\n",
    "    rs_filename = \"%s-rs\" % dataset\n",
    "    pvalue_filename = \"%s-rs-p\" % dataset\n",
    "    dataset_filename = \"%s.csv\" % dataset\n",
    "\n",
    "    try:\n",
    "        rs = np.fromfile(rs_filename)\n",
    "        pvalue = np.fromfile(pvalue_filename)\n",
    "    except IOError:\n",
    "        print \"Need to calculate spearman correlation matrix. This takes a few minutes...\"\n",
    "        exp,meta = read_raw_data(dataset_filename)\n",
    "        rs,pvalue = spearmanr(exp,axis=1)\n",
    "        rs.tofile(rs_filename)\n",
    "        pvalue.tofile(pvalue_filename)\n",
    "    \n",
    "    return rs,pvalue\n",
    "\n",
    "normal_rs,normal_pvalue = read_corr_data(\"normal\")\n",
    "tumor_rs,tumor_pvalue = read_corr_data(\"tumor\")"
   ]
  },
  {
   "cell_type": "markdown",
   "metadata": {},
   "source": [
    "Then use Spearmans correlation coefficient to construct a network, according to: http://journals.plos.org/plosone/article?id=10.1371/journal.pone.0087075."
   ]
  },
  {
   "cell_type": "code",
   "execution_count": 69,
   "metadata": {
    "collapsed": true
   },
   "outputs": [],
   "source": [
    "import networkx as nx\n",
    "from scipy.stats import spearmanr\n",
    "\n",
    "\n",
    "def network(rs,pvalue,p=0.2,corr=0.7):\n",
    "    \"\"\"\n",
    "    Builds a network from Spearman correlation coefficient matrix.\n",
    "    \n",
    "    Parameters\n",
    "    ----------\n",
    "    rs : ndarray\n",
    "        Spearman correlation coefficient matrix\n",
    "    pvalue : ndarray\n",
    "        Spearman correlation coefficient respective p-values\n",
    "    p : float\n",
    "        Threshold for maximum possible p-value to choose from\n",
    "    corr : float\n",
    "        Threshold for minimum possible correlation to form a network\n",
    "    \n",
    "    Returns\n",
    "    -------\n",
    "    G : Graph\n",
    "        A simple undirected graph.\n",
    "    \"\"\"\n",
    "    zeros = np.zeros(rs.shape)\n",
    "    rs_sig = np.where(pvalue < p,rs,zeros)\n",
    "    rs_adj = np.where(np.absolute(rs_sig) > corr,rs_sig,zeros)\n",
    "    np.fill_diagonal(rs_adj,0)\n",
    "    G = nx.from_numpy_matrix(rs_adj)\n",
    "    return G"
   ]
  },
  {
   "cell_type": "code",
   "execution_count": 70,
   "metadata": {
    "collapsed": false
   },
   "outputs": [
    {
     "name": "stdout",
     "output_type": "stream",
     "text": [
      "calc\n"
     ]
    },
    {
     "ename": "UnboundLocalError",
     "evalue": "local variable 'rs' referenced before assignment",
     "output_type": "error",
     "traceback": [
      "\u001b[1;31m---------------------------------------------------------------------------\u001b[0m",
      "\u001b[1;31mUnboundLocalError\u001b[0m                         Traceback (most recent call last)",
      "\u001b[1;32m<ipython-input-70-3737f42107d0>\u001b[0m in \u001b[0;36m<module>\u001b[1;34m()\u001b[0m\n\u001b[0;32m     29\u001b[0m     \u001b[1;32mreturn\u001b[0m \u001b[0mG\u001b[0m\u001b[1;33m\u001b[0m\u001b[0m\n\u001b[0;32m     30\u001b[0m \u001b[1;33m\u001b[0m\u001b[0m\n\u001b[1;32m---> 31\u001b[1;33m \u001b[0mrs\u001b[0m\u001b[1;33m,\u001b[0m\u001b[0mpvalue\u001b[0m \u001b[1;33m=\u001b[0m \u001b[0mread_data\u001b[0m\u001b[1;33m(\u001b[0m\u001b[1;34m\"normal\"\u001b[0m\u001b[1;33m)\u001b[0m\u001b[1;33m\u001b[0m\u001b[0m\n\u001b[0m",
      "\u001b[1;32m<ipython-input-69-23fa649dadaf>\u001b[0m in \u001b[0;36mread_data\u001b[1;34m(dataset)\u001b[0m\n\u001b[0;32m     15\u001b[0m \u001b[1;31m#         pvalue.tofile(pvalue_filename)\u001b[0m\u001b[1;33m\u001b[0m\u001b[1;33m\u001b[0m\u001b[0m\n\u001b[0;32m     16\u001b[0m \u001b[1;33m\u001b[0m\u001b[0m\n\u001b[1;32m---> 17\u001b[1;33m     \u001b[1;32mreturn\u001b[0m \u001b[0mrs\u001b[0m\u001b[1;33m,\u001b[0m\u001b[0mpvalue\u001b[0m\u001b[1;33m\u001b[0m\u001b[0m\n\u001b[0m",
      "\u001b[1;31mUnboundLocalError\u001b[0m: local variable 'rs' referenced before assignment"
     ]
    }
   ],
   "source": [
    "normal_exp,normal_meta = read_raw_data(\"normal.csv\",metacols=2)\n",
    "adjacent_exp,adjacent_meta = read_raw_data(\"adjacent.csv\",metacols=2)\n",
    "tumor_exp,tumor_meta = read_raw_data(\"tumor.csv\",metacols=2)\n",
    "metastasis_exp,metastasis_meta = read_raw_data(\"metastasis.csv\",metacols=2)\n",
    "\n",
    "normal_rs,normal_value = read_data(\"normal\")\n",
    "G = network(normal_rs,normal_pvalue,)"
   ]
  }
 ],
 "metadata": {
  "kernelspec": {
   "display_name": "Python 2",
   "language": "python",
   "name": "python2"
  },
  "language_info": {
   "codemirror_mode": {
    "name": "ipython",
    "version": 2
   },
   "file_extension": ".py",
   "mimetype": "text/x-python",
   "name": "python",
   "nbconvert_exporter": "python",
   "pygments_lexer": "ipython2",
   "version": "2.7.8"
  }
 },
 "nbformat": 4,
 "nbformat_minor": 0
}
