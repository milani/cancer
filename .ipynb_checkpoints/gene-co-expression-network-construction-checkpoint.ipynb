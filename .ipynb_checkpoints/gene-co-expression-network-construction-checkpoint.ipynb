{
 "cells": [
  {
   "cell_type": "markdown",
   "metadata": {},
   "source": [
    "Cancer - Gene Co-Expression Network Construction\n",
    "===="
   ]
  },
  {
   "cell_type": "markdown",
   "metadata": {},
   "source": [
    "We have a theory to explain why cancer happens. The theory is that cancer happens when the cell system's entroy increases due to external forces and the cell moves uphill from the minimum free energy. As the cell system is robust, it tries to maintain itself and control the energy. But it is not always successful, the cell may enter a local minimum of free energy where it is now stabilized. These local minimums may be the points that cell becomes cancerous. We want to see if our hypothesis is correct."
   ]
  },
  {
   "cell_type": "markdown",
   "metadata": {},
   "source": [
    "To this end, we use Prostate cancer data derived from NCBI Gene Omnibus GDS2545 dataset. In this iPython notebook, we generate gene co-expression networks for the 4 cell phenotypes: Normal, Adjacent, Tumor, Metastasis. We then use the constructed networks in another notebook to explore the hypothesis."
   ]
  },
  {
   "cell_type": "markdown",
   "metadata": {},
   "source": [
    "---"
   ]
  },
  {
   "cell_type": "markdown",
   "metadata": {},
   "source": [
    "First, load data into notebook in a desirable format."
   ]
  },
  {
   "cell_type": "code",
   "execution_count": 53,
   "metadata": {
    "collapsed": false
   },
   "outputs": [],
   "source": [
    "import numpy as np\n",
    "from scipy.stats import spearmanr\n",
    "\n",
    "def read_data(csv,metacols=None):\n",
    "    \"\"\"\n",
    "    Reads expression data into a ndarray of expression data and tuple of gene identifiers.\n",
    "    \n",
    "    Parameters\n",
    "    ----------\n",
    "    csv : str\n",
    "        Comma-separated csv file to read from. The first two columns are gene identifiers\n",
    "        and prob_ids respectively. Next columns are expression data of each gene (rows)\n",
    "        from different samples.\n",
    "    metacols : int or None\n",
    "        If csv contains meta data columns as defined in csv parameter, use this integer to\n",
    "        separate them from expression data.\n",
    "    \n",
    "    Returns\n",
    "    -------\n",
    "    expression_data : ndarray or False\n",
    "        The expression data. False when IO error happens.\n",
    "    meta_data : ndarray\n",
    "        The meta data matrix according to metacols provided.\n",
    "    \"\"\"\n",
    "    try:\n",
    "        raw_exp = np.genfromtxt(csv,delimiter=',',names=True,dtype=None)\n",
    "        data_cols = list(raw_exp.dtype.names[metacols:])\n",
    "        meta_cols = list(raw_exp.dtype.names[0:metacols])\n",
    "        return raw_exp[data_cols].view(np.float64).reshape(raw_exp.shape[0],len(data_cols)),raw_exp[meta_cols]\n",
    "    except IOError:\n",
    "        return False,None"
   ]
  },
  {
   "cell_type": "code",
   "execution_count": 56,
   "metadata": {
    "collapsed": false
   },
   "outputs": [],
   "source": [
    "normal_exp,normal_meta = read_data(\"normal.csv\",metacols=2)\n",
    "adjacent_exp,adjacent_meta = read_data(\"adjacent.csv\",metacols=2)\n",
    "tumor_exp,tumor_meta = read_data(\"tumor.csv\",metacols=2)\n",
    "metastasis_exp,metastasis_meta = read_data(\"metastasis.csv\",metacols=2)"
   ]
  },
  {
   "cell_type": "code",
   "execution_count": 58,
   "metadata": {
    "collapsed": false
   },
   "outputs": [
    {
     "name": "stdout",
     "output_type": "stream",
     "text": [
      "12625\n"
     ]
    }
   ],
   "source": [
    "print normal_exp.shape[0]"
   ]
  },
  {
   "cell_type": "markdown",
   "metadata": {},
   "source": [
    "Then use Spearmans correlation coefficient to construct a network, according to: http://journals.plos.org/plosone/article?id=10.1371/journal.pone.0087075."
   ]
  },
  {
   "cell_type": "code",
   "execution_count": 63,
   "metadata": {
    "collapsed": false
   },
   "outputs": [
    {
     "name": "stdout",
     "output_type": "stream",
     "text": [
      "[Errno 2] No such file or directory: 'normal-rs'\n"
     ]
    }
   ],
   "source": [
    "import networkx as nx\n",
    "from scipy.stats import spearmanr\n",
    "\n",
    "def network(expression,pvaluefile=None,p=0.2,corr=0.7):\n",
    "    if type(expression) is str:\n",
    "\n",
    "        if type(pvaluefile) is not str:\n",
    "            raise \"Should provide pvaluefile.\"\n",
    "\n",
    "        rs = np.fromfile(expression)\n",
    "        size = np.sqrt(rs.shape[0])\n",
    "\n",
    "        rs = rs.reshape((size,size))\n",
    "        pvalue = np.fromfile(pvaluefile).reshape((size,size))\n",
    "    else:\n",
    "        rs,pvalue = spearmanr(expression,axis=1)\n",
    "\n",
    "    zeros = np.zeros(rs.shape)\n",
    "    rs_sig = np.where(pvalue < p,rs,zeros)\n",
    "    rs_adj = np.where(np.absolute(rs_sig) > corr,rs_sig,zeros)\n",
    "    np.fill_diagonal(rs_adj,0)\n",
    "    G = nx.from_numpy_matrix(rs_adj)\n",
    "    return G\n",
    "\n",
    "try:\n",
    "    network(\"normal-rs\",pvaluefile=\"normal-rs-p\",p=0.2,corr=0.7)\n",
    "except IOError as e:\n",
    "    print e\n",
    "    #network(normal_exp,p=0.2,corr=0.7)\n"
   ]
  },
  {
   "cell_type": "code",
   "execution_count": null,
   "metadata": {
    "collapsed": false
   },
   "outputs": [],
   "source": [
    "spearmanr(split1,axis=1)"
   ]
  }
 ],
 "metadata": {
  "kernelspec": {
   "display_name": "Python 2",
   "language": "python",
   "name": "python2"
  },
  "language_info": {
   "codemirror_mode": {
    "name": "ipython",
    "version": 2
   },
   "file_extension": ".py",
   "mimetype": "text/x-python",
   "name": "python",
   "nbconvert_exporter": "python",
   "pygments_lexer": "ipython2",
   "version": "2.7.6"
  }
 },
 "nbformat": 4,
 "nbformat_minor": 0
}
