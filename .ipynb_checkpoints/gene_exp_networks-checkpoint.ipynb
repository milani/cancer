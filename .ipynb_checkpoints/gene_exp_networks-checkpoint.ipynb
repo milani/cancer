{
 "cells": [
  {
   "cell_type": "markdown",
   "metadata": {},
   "source": [
    "#Using Balance Theory to detect driver genes in cancer"
   ]
  },
  {
   "cell_type": "markdown",
   "metadata": {},
   "source": [
    "We have an idea to detect driver genes in cancer using balance theory. We know that every complex system is in minimum free energy state and tends to stay there. Pertubrations cause the system to unbalance and the free energy to increases. As the system tries to cool down to minimal energy, some changes happen. We are going to use this concept to detect driver genes that cause cancer, as they probably change free energy of the system."
   ]
  },
  {
   "cell_type": "markdown",
   "metadata": {},
   "source": [
    "To this end, we use Prostate cancer data derived from NCBI Gene Omnibus GDS2545 dataset. We first load data of prostate tissue in four states: Normal, Adjacent, Tumor, Metastasis."
   ]
  },
  {
   "cell_type": "code",
   "execution_count": 40,
   "metadata": {
    "collapsed": false
   },
   "outputs": [],
   "source": [
    "import numpy as np\n",
    "\n",
    "# Use dtype=None to have string values as are, otherwise numpy tries to convert them into fload.\n",
    "normal_data = np.genfromtxt('normal.csv',delimiter=',',names=True,dtype=None)\n",
    "adjacent_data = np.genfromtxt('adjacent.csv',delimiter=',',names=True,dtype=None)\n",
    "tumor_data = np.genfromtxt('tumor.csv',delimiter=',',names=True,dtype=None)\n",
    "metastasis_data = np.genfromtxt('metastasis.csv',delimiter=',',names=True,dtype=None)"
   ]
  },
  {
   "cell_type": "code",
   "execution_count": 41,
   "metadata": {
    "collapsed": false
   },
   "outputs": [],
   "source": [
    "# Extract expression data\n",
    "\n",
    "normal_exp_cols = list(normal_data.dtype.names[2:])\n",
    "normal_exp = normal_data[normal_exp_cols].view(np.float64).reshape(normal_data.shape[0],len(normal_exp_cols))\n",
    "\n",
    "adjacent_exp_cols = list(adjacent_data.dtype.names[2:])\n",
    "adjacent_exp = adjacent_data[adjacent_exp_cols].view(np.float64).reshape(adjacent_data.shape[0],len(adjacent_exp_cols))\n",
    "\n",
    "tumor_exp_cols = list(tumor_data.dtype.names[2:])\n",
    "tumor_exp = tumor_data[tumor_exp_cols].view(np.float64).reshape(tumor_data.shape[0],len(tumor_exp_cols))\n",
    "\n",
    "metastasis_exp_cols = list(metastasis_data.dtype.names[2:])\n",
    "metastasis_exp = metastasis_data[metastasis_exp_cols].view(np.float64).reshape(metastasis_data.shape[0],len(metastasis_exp_cols))"
   ]
  },
  {
   "cell_type": "markdown",
   "metadata": {},
   "source": [
    "We use a modified version of ARACNE algorithm to construct a network for each dataset."
   ]
  },
  {
   "cell_type": "code",
   "execution_count": 46,
   "metadata": {
    "collapsed": false
   },
   "outputs": [
    {
     "name": "stdout",
     "output_type": "stream",
     "text": [
      "25\n"
     ]
    }
   ],
   "source": [
    "\n"
   ]
  }
 ],
 "metadata": {
  "kernelspec": {
   "display_name": "Python 2",
   "language": "python",
   "name": "python2"
  },
  "language_info": {
   "codemirror_mode": {
    "name": "ipython",
    "version": 2
   },
   "file_extension": ".py",
   "mimetype": "text/x-python",
   "name": "python",
   "nbconvert_exporter": "python",
   "pygments_lexer": "ipython2",
   "version": "2.7.6"
  }
 },
 "nbformat": 4,
 "nbformat_minor": 0
}
