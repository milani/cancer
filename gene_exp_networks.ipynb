{
 "cells": [
  {
   "cell_type": "markdown",
   "metadata": {},
   "source": [
    "#Using Balance Theory to detect driver genes in cancer"
   ]
  },
  {
   "cell_type": "markdown",
   "metadata": {},
   "source": [
    "We have an idea to detect driver genes in cancer using balance theory. We know that every complex system is in minimum free energy state and tends to stay there. Pertubrations cause the system to unbalance and the free energy to increases. As the system tries to cool down to minimal energy, some changes happen. We are going to use this concept to detect driver genes that cause cancer, as they probably change free energy of the system."
   ]
  },
  {
   "cell_type": "markdown",
   "metadata": {},
   "source": [
    "To this end, we use Prostate cancer data derived from NCBI Gene Omnibus GDS2545 dataset. We first load data of prostate tissue in four states: Normal, Adjacent, Tumor, Metastasis."
   ]
  },
  {
   "cell_type": "code",
   "execution_count": null,
   "metadata": {
    "collapsed": false
   },
   "outputs": [],
   "source": [
    "import numpy as np\n",
    "\n",
    "# Use dtype=None to have string values as are, otherwise numpy tries to convert them into fload.\n",
    "normal_data = np.genfromtxt('normal.csv',delimiter=',',names=True,dtype=None)\n",
    "adjacent_data = np.genfromtxt('adjacent.csv',delimiter=',',names=True,dtype=None)\n",
    "tumor_data = np.genfromtxt('tumor.csv',delimiter=',',names=True,dtype=None)\n",
    "metastasis_data = np.genfromtxt('metastasis.csv',delimiter=',',names=True,dtype=None)"
   ]
  },
  {
   "cell_type": "code",
   "execution_count": null,
   "metadata": {
    "collapsed": false
   },
   "outputs": [],
   "source": [
    "# Extract expression data\n",
    "\n",
    "normal_exp_cols = list(normal_data.dtype.names[2:])\n",
    "normal_exp = normal_data[normal_exp_cols].view(np.float64).reshape(normal_data.shape[0],len(normal_exp_cols))\n",
    "\n",
    "adjacent_exp_cols = list(adjacent_data.dtype.names[2:])\n",
    "adjacent_exp = adjacent_data[adjacent_exp_cols].view(np.float64).reshape(adjacent_data.shape[0],len(adjacent_exp_cols))\n",
    "\n",
    "tumor_exp_cols = list(tumor_data.dtype.names[2:])\n",
    "tumor_exp = tumor_data[tumor_exp_cols].view(np.float64).reshape(tumor_data.shape[0],len(tumor_exp_cols))\n",
    "\n",
    "metastasis_exp_cols = list(metastasis_data.dtype.names[2:])\n",
    "metastasis_exp = metastasis_data[metastasis_exp_cols].view(np.float64).reshape(metastasis_data.shape[0],len(metastasis_exp_cols))"
   ]
  },
  {
   "cell_type": "markdown",
   "metadata": {},
   "source": [
    "We use a modified version of ARACNE algorithm to construct a network for each dataset."
   ]
  },
  {
   "cell_type": "code",
   "execution_count": null,
   "metadata": {
    "collapsed": false
   },
   "outputs": [],
   "source": [
    "normal_rs = np.fromfile('normal-rs')\n",
    "normal_rs_p = np.fromfile('normal-rs-p')"
   ]
  },
  {
   "cell_type": "code",
   "execution_count": null,
   "metadata": {
    "collapsed": false
   },
   "outputs": [],
   "source": [
    "%matplotlib inline\n",
    "import matplotlib.pyplot as plt\n",
    "fig = plt.figure()\n",
    "ax = fig.add_subplot(111)\n",
    "ax.hist(normal_rs_p.reshape(12625*12625,1),1000,color='green',alpha=0.8)\n",
    "plt.show()"
   ]
  },
  {
   "cell_type": "code",
   "execution_count": null,
   "metadata": {
    "collapsed": false
   },
   "outputs": [],
   "source": [
    "normal_rs = normal_rs.reshape((12625,12625))\n",
    "normal_rs_p = normal_rs_p.reshape((12625,12625))\n",
    "normal_rs_sig = np.where(normal_rs_p < 0.2,normal_rs,np.zeros((12625,12625)))"
   ]
  },
  {
   "cell_type": "code",
   "execution_count": null,
   "metadata": {
    "collapsed": false
   },
   "outputs": [],
   "source": [
    "normal_rs_adj = np.where(np.absolute(normal_rs_sig) > 0.7,normal_rs_sig,np.zeros((12625,12625)))\n",
    "np.fill_diagonal(normal_rs_adj,0)\n",
    "print np.transpose(np.nonzero(normal_rs_adj)).shape/2"
   ]
  },
  {
   "cell_type": "code",
   "execution_count": null,
   "metadata": {
    "collapsed": false
   },
   "outputs": [],
   "source": [
    "import networkx as nx\n"
   ]
  },
  {
   "cell_type": "code",
   "execution_count": null,
   "metadata": {
    "collapsed": true
   },
   "outputs": [],
   "source": [
    "graph = nx.from_numpy_matrix(normal_rs_adj)"
   ]
  },
  {
   "cell_type": "code",
   "execution_count": null,
   "metadata": {
    "collapsed": false
   },
   "outputs": [],
   "source": [
    " Gc = max(nx.connected_component_subgraphs(graph), key=len)"
   ]
  },
  {
   "cell_type": "code",
   "execution_count": null,
   "metadata": {
    "collapsed": false
   },
   "outputs": [],
   "source": [
    "fig = plt.figure()\n",
    "fig.set_size_inches(14, 9)\n",
    "\n",
    "plt.hist(nx.degree_histogram(graph),200,color='green',alpha=0.8)\n",
    "plt.show()"
   ]
  },
  {
   "cell_type": "code",
   "execution_count": null,
   "metadata": {
    "collapsed": false
   },
   "outputs": [],
   "source": [
    "fig = plt.figure()\n",
    "fig.set_size_inches(14, 14)\n",
    "\n",
    "nx.draw_networkx(Gc,node_size=10,alpha=0.5,)"
   ]
  },
  {
   "cell_type": "code",
   "execution_count": null,
   "metadata": {
    "collapsed": false
   },
   "outputs": [],
   "source": [
    "import networkx as nx\n",
    "import numpy as np\n",
    "from scipy.stats import spearmanr\n",
    "\n",
    "def network(expression,pvaluefile=None,p=0.2,corr=0.7):\n",
    "    if type(expression) is str:\n",
    "\n",
    "        if type(pvaluefile) is not str:\n",
    "            raise \"Should provide pvaluefile.\"\n",
    "\n",
    "        rs = np.fromfile(expression)\n",
    "        size = np.sqrt(rs.shape[0])\n",
    "\n",
    "        rs = rs.reshape((size,size))\n",
    "        pvalue = np.fromfile(pvaluefile).reshape((size,size))\n",
    "    else:\n",
    "        rs,pvalue = spearmanr(expression,axis=1)\n",
    "\n",
    "    zeros = np.zeros(rs.shape)\n",
    "    rs_sig = np.where(pvalue < p,rs,zeros)\n",
    "    rs_adj = np.where(np.absolute(rs_sig) > corr,rs_sig,zeros)\n",
    "    np.fill_diagonal(rs_adj,0)\n",
    "    G = nx.from_numpy_matrix(rs_adj)\n",
    "    return G\n",
    "\n",
    "try:\n",
    "    G = network(\"normal-rs\",pvaluefile=\"normal-rs-p\",p=0.2,corr=0.7)\n",
    "except IOError as e:\n",
    "    print e\n",
    "    #network(normal_exp,p=0.2,corr=0.7)\n",
    "print nx.info(G)"
   ]
  },
  {
   "cell_type": "code",
   "execution_count": null,
   "metadata": {
    "collapsed": true
   },
   "outputs": [],
   "source": [
    "import numpy\n",
    "import networkx\n",
    "\n"
   ]
  },
  {
   "cell_type": "code",
   "execution_count": null,
   "metadata": {
    "collapsed": false
   },
   "outputs": [],
   "source": [
    "A=numpy.matrix([[0,-0.0333],[-0.0333,0]])\n",
    "print A\n",
    "G=nx.from_numpy_matrix(A)\n",
    "nx.info(G)"
   ]
  },
  {
   "cell_type": "code",
   "execution_count": null,
   "metadata": {
    "collapsed": false
   },
   "outputs": [],
   "source": [
    "import itertools\n",
    "x=[1,2,3,4]\n",
    "y=['a','b','c','d']\n",
    "r = set()\n",
    "for i in itertools.product(x,y):\n",
    "    r.add(i)\n"
   ]
  },
  {
   "cell_type": "code",
   "execution_count": null,
   "metadata": {
    "collapsed": false
   },
   "outputs": [],
   "source": [
    "r"
   ]
  },
  {
   "cell_type": "code",
   "execution_count": null,
   "metadata": {
    "collapsed": true
   },
   "outputs": [],
   "source": []
  }
 ],
 "metadata": {
  "kernelspec": {
   "display_name": "Python 2",
   "language": "python",
   "name": "python2"
  },
  "language_info": {
   "codemirror_mode": {
    "name": "ipython",
    "version": 2
   },
   "file_extension": ".py",
   "mimetype": "text/x-python",
   "name": "python",
   "nbconvert_exporter": "python",
   "pygments_lexer": "ipython2",
   "version": "2.7.8"
  }
 },
 "nbformat": 4,
 "nbformat_minor": 0
}
